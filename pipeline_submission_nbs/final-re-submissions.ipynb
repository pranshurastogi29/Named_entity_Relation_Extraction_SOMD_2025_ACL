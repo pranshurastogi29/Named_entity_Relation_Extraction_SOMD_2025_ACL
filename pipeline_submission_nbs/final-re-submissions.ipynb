{
 "cells": [
  {
   "cell_type": "code",
   "execution_count": 1,
   "id": "423c7dc1",
   "metadata": {
    "_cell_guid": "b1076dfc-b9ad-4769-8c92-a6c4dae69d19",
    "_uuid": "8f2839f25d086af736a60e9eeb907d3b93b6e0e5",
    "execution": {
     "iopub.execute_input": "2025-04-14T23:34:22.321781Z",
     "iopub.status.busy": "2025-04-14T23:34:22.321283Z",
     "iopub.status.idle": "2025-04-14T23:34:24.966067Z",
     "shell.execute_reply": "2025-04-14T23:34:24.964566Z"
    },
    "papermill": {
     "duration": 2.654758,
     "end_time": "2025-04-14T23:34:24.968260",
     "exception": false,
     "start_time": "2025-04-14T23:34:22.313502",
     "status": "completed"
    },
    "tags": []
   },
   "outputs": [],
   "source": [
    "import numpy as np # linear algebra\n",
    "import pandas as pd # data processing, CSV file I/O (e.g. pd.read_csv)\n",
    "import os"
   ]
  },
  {
   "cell_type": "code",
   "execution_count": 2,
   "id": "688cefb4",
   "metadata": {
    "execution": {
     "iopub.execute_input": "2025-04-14T23:34:24.980183Z",
     "iopub.status.busy": "2025-04-14T23:34:24.979522Z",
     "iopub.status.idle": "2025-04-14T23:34:25.401516Z",
     "shell.execute_reply": "2025-04-14T23:34:25.400032Z"
    },
    "papermill": {
     "duration": 0.430664,
     "end_time": "2025-04-14T23:34:25.404227",
     "exception": false,
     "start_time": "2025-04-14T23:34:24.973563",
     "status": "completed"
    },
    "tags": []
   },
   "outputs": [],
   "source": [
    "dl_oof_df = pd.read_csv('/kaggle/input/workshop-task-acl/deberta_v3_re_results/oof_df.csv')\n",
    "mb_oof_df = pd.read_csv('/kaggle/input/workshop-task-acl/modern_bert_large_re_results/oof_df.csv')\n",
    "\n",
    "dl_test_df = pd.read_csv('/kaggle/input/workshop-task-acl/deberta_v3_re_results/test_fold.csv')\n",
    "mb_test_df = pd.read_csv('/kaggle/input/workshop-task-acl/modern_bert_large_re_results/test_fold.csv')"
   ]
  },
  {
   "cell_type": "code",
   "execution_count": 3,
   "id": "c314a124",
   "metadata": {
    "execution": {
     "iopub.execute_input": "2025-04-14T23:34:25.416799Z",
     "iopub.status.busy": "2025-04-14T23:34:25.415848Z",
     "iopub.status.idle": "2025-04-14T23:34:25.494008Z",
     "shell.execute_reply": "2025-04-14T23:34:25.492865Z"
    },
    "papermill": {
     "duration": 0.086791,
     "end_time": "2025-04-14T23:34:25.496207",
     "exception": false,
     "start_time": "2025-04-14T23:34:25.409416",
     "status": "completed"
    },
    "tags": []
   },
   "outputs": [],
   "source": [
    "dl_test_proba_df = pd.read_csv('/kaggle/input/workshop-task-acl/deberta_v3_re_results/test_preds_proba.csv')\n",
    "mb_test_proba_df = pd.read_csv('/kaggle/input/workshop-task-acl/modern_bert_large_re_results/test_preds_proba.csv')"
   ]
  },
  {
   "cell_type": "code",
   "execution_count": 4,
   "id": "a6415bf8",
   "metadata": {
    "execution": {
     "iopub.execute_input": "2025-04-14T23:34:25.508039Z",
     "iopub.status.busy": "2025-04-14T23:34:25.507648Z",
     "iopub.status.idle": "2025-04-14T23:34:25.520396Z",
     "shell.execute_reply": "2025-04-14T23:34:25.519307Z"
    },
    "papermill": {
     "duration": 0.020847,
     "end_time": "2025-04-14T23:34:25.522414",
     "exception": false,
     "start_time": "2025-04-14T23:34:25.501567",
     "status": "completed"
    },
    "tags": []
   },
   "outputs": [],
   "source": [
    "w = (dl_test_proba_df*.3 + mb_test_proba_df*.7)"
   ]
  },
  {
   "cell_type": "code",
   "execution_count": 5,
   "id": "8db228cd",
   "metadata": {
    "execution": {
     "iopub.execute_input": "2025-04-14T23:34:25.533428Z",
     "iopub.status.busy": "2025-04-14T23:34:25.533042Z",
     "iopub.status.idle": "2025-04-14T23:34:25.543825Z",
     "shell.execute_reply": "2025-04-14T23:34:25.542563Z"
    },
    "papermill": {
     "duration": 0.018789,
     "end_time": "2025-04-14T23:34:25.545948",
     "exception": false,
     "start_time": "2025-04-14T23:34:25.527159",
     "status": "completed"
    },
    "tags": []
   },
   "outputs": [],
   "source": [
    "dl_test_df['preds_avg'] = np.argmax(w, axis = 1)\n",
    "mb_test_df['preds_avg'] = np.argmax(w, axis = 1)"
   ]
  },
  {
   "cell_type": "code",
   "execution_count": 6,
   "id": "e0b68848",
   "metadata": {
    "execution": {
     "iopub.execute_input": "2025-04-14T23:34:25.557023Z",
     "iopub.status.busy": "2025-04-14T23:34:25.556590Z",
     "iopub.status.idle": "2025-04-14T23:34:25.563918Z",
     "shell.execute_reply": "2025-04-14T23:34:25.562640Z"
    },
    "papermill": {
     "duration": 0.015115,
     "end_time": "2025-04-14T23:34:25.565998",
     "exception": false,
     "start_time": "2025-04-14T23:34:25.550883",
     "status": "completed"
    },
    "tags": []
   },
   "outputs": [],
   "source": [
    "re_lab_dict = {'no_relation': 0,\n",
    " 'Developer_of': 1,\n",
    " 'URL_of': 2,\n",
    " 'Citation_of': 3,\n",
    " 'PlugIn_of': 4,\n",
    " 'Version_of': 5,\n",
    " 'Extension_of': 6,\n",
    " 'Specification_of': 7,\n",
    " 'Release_of': 8,\n",
    " 'Abbreviation_of': 9,\n",
    " 'License_of': 10,\n",
    " 'AlternativeName_of': 11}\n",
    "\n",
    "re_lab_inv_map = {v: k for k, v in re_lab_dict.items()}"
   ]
  },
  {
   "cell_type": "code",
   "execution_count": 7,
   "id": "170ac3aa",
   "metadata": {
    "execution": {
     "iopub.execute_input": "2025-04-14T23:34:25.576941Z",
     "iopub.status.busy": "2025-04-14T23:34:25.576521Z",
     "iopub.status.idle": "2025-04-14T23:34:25.587053Z",
     "shell.execute_reply": "2025-04-14T23:34:25.585964Z"
    },
    "papermill": {
     "duration": 0.018192,
     "end_time": "2025-04-14T23:34:25.588948",
     "exception": false,
     "start_time": "2025-04-14T23:34:25.570756",
     "status": "completed"
    },
    "tags": []
   },
   "outputs": [],
   "source": [
    "dl_oof_df['relations'] = dl_oof_df['preds'].apply(lambda x: re_lab_inv_map[x])\n",
    "dl_test_df['relations'] = dl_test_df['preds'].apply(lambda x: re_lab_inv_map[x])"
   ]
  },
  {
   "cell_type": "code",
   "execution_count": 8,
   "id": "f6881236",
   "metadata": {
    "execution": {
     "iopub.execute_input": "2025-04-14T23:34:25.601771Z",
     "iopub.status.busy": "2025-04-14T23:34:25.600551Z",
     "iopub.status.idle": "2025-04-14T23:34:25.610653Z",
     "shell.execute_reply": "2025-04-14T23:34:25.609580Z"
    },
    "papermill": {
     "duration": 0.018794,
     "end_time": "2025-04-14T23:34:25.612716",
     "exception": false,
     "start_time": "2025-04-14T23:34:25.593922",
     "status": "completed"
    },
    "tags": []
   },
   "outputs": [],
   "source": [
    "dl_test_df['relations_avg'] = dl_test_df['preds_avg'].apply(lambda x: re_lab_inv_map[x])\n",
    "mb_test_df['relations_avg'] = mb_test_df['preds_avg'].apply(lambda x: re_lab_inv_map[x])"
   ]
  },
  {
   "cell_type": "code",
   "execution_count": 12,
   "id": "82bc3bdf",
   "metadata": {
    "execution": {
     "iopub.execute_input": "2025-04-14T23:34:25.721771Z",
     "iopub.status.busy": "2025-04-14T23:34:25.721362Z",
     "iopub.status.idle": "2025-04-14T23:34:25.729889Z",
     "shell.execute_reply": "2025-04-14T23:34:25.728762Z"
    },
    "papermill": {
     "duration": 0.016611,
     "end_time": "2025-04-14T23:34:25.731818",
     "exception": false,
     "start_time": "2025-04-14T23:34:25.715207",
     "status": "completed"
    },
    "tags": []
   },
   "outputs": [],
   "source": [
    "def get_preds(df):\n",
    "    # df['relations'] = df['preds'].apply(lambda x: re_lab_inv_map[x])\n",
    "    df['relations'] = df['preds_avg'].apply(lambda x: re_lab_inv_map[x])\n",
    "    df['entity_label_a'] = df['entity_token_a'].apply(lambda x: x.split(' [SEP] ')[0][2:])\n",
    "    df['entity_label_b'] = df['entity_token_b'].apply(lambda x: x.split(' [SEP] ')[0][2:])\n",
    "    df['relations_type'] = df['relations'].apply(lambda x: x.split('_')[0])\n",
    "    df = df[df['entity_label_a']==df['relations_type']].reset_index(drop = True)\n",
    "    df = df.drop(columns = ['entity_label_a', 'entity_label_b', 'relations_type', 'relation_text_2', 'train_text'])\n",
    "    df.sort_values('document', inplace = True)\n",
    "    df = df[['entity_token_1', 'entity_token_a', 'entity_token_b',\n",
    "             'entity_token_2', 'document', 'relations', 'relations_avg']]\n",
    "    return df"
   ]
  },
  {
   "cell_type": "code",
   "execution_count": 13,
   "id": "7f1247c1",
   "metadata": {
    "execution": {
     "iopub.execute_input": "2025-04-14T23:34:25.743397Z",
     "iopub.status.busy": "2025-04-14T23:34:25.742977Z",
     "iopub.status.idle": "2025-04-14T23:34:25.781661Z",
     "shell.execute_reply": "2025-04-14T23:34:25.780087Z"
    },
    "papermill": {
     "duration": 0.047184,
     "end_time": "2025-04-14T23:34:25.784020",
     "exception": false,
     "start_time": "2025-04-14T23:34:25.736836",
     "status": "completed"
    },
    "tags": []
   },
   "outputs": [],
   "source": [
    "dl_test_df = get_preds(dl_test_df)\n",
    "mb_test_df = get_preds(mb_test_df)"
   ]
  },
  {
   "cell_type": "code",
   "execution_count": 15,
   "id": "c18f7c03",
   "metadata": {
    "execution": {
     "iopub.execute_input": "2025-04-14T23:34:25.814627Z",
     "iopub.status.busy": "2025-04-14T23:34:25.814203Z",
     "iopub.status.idle": "2025-04-14T23:34:25.822020Z",
     "shell.execute_reply": "2025-04-14T23:34:25.820693Z"
    },
    "papermill": {
     "duration": 0.016383,
     "end_time": "2025-04-14T23:34:25.824165",
     "exception": false,
     "start_time": "2025-04-14T23:34:25.807782",
     "status": "completed"
    },
    "tags": []
   },
   "outputs": [],
   "source": [
    "dl_test_df = dl_test_df.sort_values('document').reset_index(drop = True)"
   ]
  },
  {
   "cell_type": "code",
   "execution_count": 16,
   "id": "7a559c1b",
   "metadata": {
    "execution": {
     "iopub.execute_input": "2025-04-14T23:34:25.835770Z",
     "iopub.status.busy": "2025-04-14T23:34:25.835350Z",
     "iopub.status.idle": "2025-04-14T23:34:25.843870Z",
     "shell.execute_reply": "2025-04-14T23:34:25.842335Z"
    },
    "papermill": {
     "duration": 0.016863,
     "end_time": "2025-04-14T23:34:25.846006",
     "exception": false,
     "start_time": "2025-04-14T23:34:25.829143",
     "status": "completed"
    },
    "tags": []
   },
   "outputs": [],
   "source": [
    "mb_test_df = mb_test_df.sort_values('document').reset_index(drop = True)"
   ]
  },
  {
   "cell_type": "code",
   "execution_count": 17,
   "id": "9501a760",
   "metadata": {
    "execution": {
     "iopub.execute_input": "2025-04-14T23:34:25.858078Z",
     "iopub.status.busy": "2025-04-14T23:34:25.857693Z",
     "iopub.status.idle": "2025-04-14T23:34:25.865754Z",
     "shell.execute_reply": "2025-04-14T23:34:25.864427Z"
    },
    "papermill": {
     "duration": 0.016169,
     "end_time": "2025-04-14T23:34:25.867751",
     "exception": false,
     "start_time": "2025-04-14T23:34:25.851582",
     "status": "completed"
    },
    "tags": []
   },
   "outputs": [],
   "source": [
    "dl_test_df_1 = dl_test_df.drop(columns = ['relations_avg'])\n",
    "mb_test_df_2 = mb_test_df.drop(columns = ['relations_avg'])"
   ]
  },
  {
   "cell_type": "code",
   "execution_count": 18,
   "id": "0aa9ee4c",
   "metadata": {
    "execution": {
     "iopub.execute_input": "2025-04-14T23:34:25.879499Z",
     "iopub.status.busy": "2025-04-14T23:34:25.879174Z",
     "iopub.status.idle": "2025-04-14T23:34:25.887690Z",
     "shell.execute_reply": "2025-04-14T23:34:25.886543Z"
    },
    "papermill": {
     "duration": 0.016261,
     "end_time": "2025-04-14T23:34:25.889593",
     "exception": false,
     "start_time": "2025-04-14T23:34:25.873332",
     "status": "completed"
    },
    "tags": []
   },
   "outputs": [],
   "source": [
    "dl_test_df_1 = dl_test_df_1.drop(columns = ['entity_token_a', 'entity_token_b'])\n",
    "mb_test_df_2 = mb_test_df_2.drop(columns = ['entity_token_a', 'entity_token_b'])"
   ]
  },
  {
   "cell_type": "code",
   "execution_count": 19,
   "id": "d38373bf",
   "metadata": {
    "execution": {
     "iopub.execute_input": "2025-04-14T23:34:25.900923Z",
     "iopub.status.busy": "2025-04-14T23:34:25.900498Z",
     "iopub.status.idle": "2025-04-14T23:34:25.915762Z",
     "shell.execute_reply": "2025-04-14T23:34:25.914517Z"
    },
    "papermill": {
     "duration": 0.02311,
     "end_time": "2025-04-14T23:34:25.917878",
     "exception": false,
     "start_time": "2025-04-14T23:34:25.894768",
     "status": "completed"
    },
    "tags": []
   },
   "outputs": [],
   "source": [
    "dl_test_df_1 = pd.concat([dl_test_df_1, mb_test_df_2]).drop_duplicates().reset_index(drop = True)"
   ]
  },
  {
   "cell_type": "code",
   "execution_count": 20,
   "id": "46354357",
   "metadata": {
    "execution": {
     "iopub.execute_input": "2025-04-14T23:34:25.929308Z",
     "iopub.status.busy": "2025-04-14T23:34:25.928886Z",
     "iopub.status.idle": "2025-04-14T23:34:26.094446Z",
     "shell.execute_reply": "2025-04-14T23:34:26.092854Z"
    },
    "papermill": {
     "duration": 0.173809,
     "end_time": "2025-04-14T23:34:26.096660",
     "exception": false,
     "start_time": "2025-04-14T23:34:25.922851",
     "status": "completed"
    },
    "tags": []
   },
   "outputs": [],
   "source": [
    "import pandas as pd\n",
    "\n",
    "relation_dict = {}\n",
    "\n",
    "for doc_id in range(220):\n",
    "    if doc_id in dl_test_df_1['document'].unique():\n",
    "        doc_rows = dl_test_df_1[dl_test_df_1['document'] == doc_id]\n",
    "    \n",
    "        formatted = \"; \".join(\n",
    "        f\"{row['relations']}\\t{row['entity_token_1']}\\t{row['entity_token_2']}\"\n",
    "        for _, row in doc_rows.iterrows()\n",
    "        )\n",
    "    else:\n",
    "        formatted = ''\n",
    "    relation_dict[doc_id] = formatted\n",
    "\n",
    "with open(\"predictions.relations.txt\", \"w\") as f:\n",
    "    for doc, text in relation_dict.items():\n",
    "        f.write(f\"{text}\\n\")"
   ]
  },
  {
   "cell_type": "code",
   "execution_count": null,
   "id": "f7ea69e1",
   "metadata": {
    "papermill": {
     "duration": 0.004324,
     "end_time": "2025-04-14T23:34:26.106136",
     "exception": false,
     "start_time": "2025-04-14T23:34:26.101812",
     "status": "completed"
    },
    "tags": []
   },
   "outputs": [],
   "source": []
  }
 ],
 "metadata": {
  "kaggle": {
   "accelerator": "none",
   "dataSources": [
    {
     "datasetId": 6941247,
     "sourceId": 11401111,
     "sourceType": "datasetVersion"
    }
   ],
   "dockerImageVersionId": 31012,
   "isGpuEnabled": false,
   "isInternetEnabled": true,
   "language": "python",
   "sourceType": "notebook"
  },
  "kernelspec": {
   "display_name": "Python 3",
   "language": "python",
   "name": "python3"
  },
  "language_info": {
   "codemirror_mode": {
    "name": "ipython",
    "version": 3
   },
   "file_extension": ".py",
   "mimetype": "text/x-python",
   "name": "python",
   "nbconvert_exporter": "python",
   "pygments_lexer": "ipython3",
   "version": "3.11.11"
  },
  "papermill": {
   "default_parameters": {},
   "duration": 10.690852,
   "end_time": "2025-04-14T23:34:26.838297",
   "environment_variables": {},
   "exception": null,
   "input_path": "__notebook__.ipynb",
   "output_path": "__notebook__.ipynb",
   "parameters": {},
   "start_time": "2025-04-14T23:34:16.147445",
   "version": "2.6.0"
  }
 },
 "nbformat": 4,
 "nbformat_minor": 5
}
